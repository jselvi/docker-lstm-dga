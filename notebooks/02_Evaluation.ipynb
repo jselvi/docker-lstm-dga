{
 "cells": [
  {
   "cell_type": "code",
   "execution_count": 1,
   "metadata": {},
   "outputs": [],
   "source": [
    "import numpy\n",
    "\n",
    "import sklearn.metrics as sklm\n",
    "from sklearn.model_selection import train_test_split\n",
    "\n",
    "from keras.preprocessing.sequence import pad_sequences\n",
    "from keras.models import Sequential, load_model\n",
    "from keras.layers import Dense, LSTM\n",
    "from keras.callbacks import Callback, EarlyStopping, ModelCheckpoint\n",
    "\n",
    "import matplotlib.pyplot as plt"
   ]
  },
  {
   "cell_type": "code",
   "execution_count": 2,
   "metadata": {},
   "outputs": [],
   "source": [
    "# PARAMS\n",
    "#model_file = \"/models/model-new.h5\" # New Custom Training\n",
    "model_file = \"/models/model-proposed.h5\" # 50 neurons + 10 batch + softsign"
   ]
  },
  {
   "cell_type": "code",
   "execution_count": 3,
   "metadata": {},
   "outputs": [],
   "source": [
    "# fix random seed for reproducibility\n",
    "numpy.random.seed(1234)\n",
    "\n",
    "clean_file   = \"/data/alexa-32k.txt\"\n",
    "malware_file = \"/data/dga-32k.txt\""
   ]
  },
  {
   "cell_type": "code",
   "execution_count": 4,
   "metadata": {},
   "outputs": [],
   "source": [
    "# Load clean and malware datasets\n",
    "with open(clean_file) as f:\n",
    "    clean_domains = f.read().splitlines()\n",
    "with open(malware_file) as f:\n",
    "    malware_domains = f.read().splitlines()"
   ]
  },
  {
   "cell_type": "code",
   "execution_count": 5,
   "metadata": {},
   "outputs": [],
   "source": [
    "# Create Dictionary\n",
    "charset = list(\"abcdefghijklmnopqrstuvwxyz0123456789.-\")\n",
    "dictionary = dict(zip(charset, range(len(charset))))\n",
    "reverse_dictionary = dict(zip(range(len(charset)), charset))"
   ]
  },
  {
   "cell_type": "code",
   "execution_count": 6,
   "metadata": {},
   "outputs": [],
   "source": [
    "# Translate Domain Name to Vector\n",
    "def domain_to_vector(domain, dictionary):\n",
    "    res = []\n",
    "    for c in list(domain):\n",
    "        v = [float(0)] * len(dictionary)\n",
    "        v[dictionary[c]] = 1.0\n",
    "        res.append(v)\n",
    "    return res"
   ]
  },
  {
   "cell_type": "code",
   "execution_count": 7,
   "metadata": {},
   "outputs": [],
   "source": [
    "# Translate Domain List to DataSet format\n",
    "def domainlist_to_dataset(domainlist, result, dictionary):\n",
    "    x = [ domain_to_vector(v, dictionary) for v in domainlist ]\n",
    "    y = [ [result] for y in range(len(x))]\n",
    "    \n",
    "    return x, y"
   ]
  },
  {
   "cell_type": "code",
   "execution_count": 8,
   "metadata": {},
   "outputs": [],
   "source": [
    "# Extract Domain Lists and Merge them\n",
    "x_clean_noarray, y_clean_noarray = domainlist_to_dataset(clean_domains, 0, dictionary)\n",
    "x_malware_noarray, y_malware_noarray = domainlist_to_dataset(malware_domains, 1, dictionary)\n",
    "x_noarray = x_clean_noarray + x_malware_noarray\n",
    "y_noarray = y_clean_noarray + y_malware_noarray"
   ]
  },
  {
   "cell_type": "code",
   "execution_count": 9,
   "metadata": {},
   "outputs": [],
   "source": [
    "# Padding zeros & Convert to Array\n",
    "novalue = [float(0)] * len(dictionary)\n",
    "x_noarray_pad = pad_sequences(x_noarray, dtype=float, value=novalue, padding='post')\n",
    "x = numpy.array(x_noarray_pad, dtype=float)\n",
    "y = numpy.array(y_noarray, dtype=float)"
   ]
  },
  {
   "cell_type": "code",
   "execution_count": 10,
   "metadata": {},
   "outputs": [],
   "source": [
    "# Split DataSet into Validation Dataset & Working Dataset\n",
    "x_working, x_validation, y_working, y_validation = train_test_split(x, y, test_size=0.5, random_state=4)"
   ]
  },
  {
   "cell_type": "code",
   "execution_count": 11,
   "metadata": {},
   "outputs": [],
   "source": [
    "# Load LSTM Model\n",
    "model = load_model(model_file)"
   ]
  },
  {
   "cell_type": "code",
   "execution_count": 12,
   "metadata": {},
   "outputs": [
    {
     "name": "stdout",
     "output_type": "stream",
     "text": [
      "Model: \"sequential\"\n",
      "_________________________________________________________________\n",
      "Layer (type)                 Output Shape              Param #   \n",
      "=================================================================\n",
      "lstm_1 (LSTM)                (None, 50)                17800     \n",
      "_________________________________________________________________\n",
      "dense_1 (Dense)              (None, 1)                 51        \n",
      "=================================================================\n",
      "Total params: 17,851\n",
      "Trainable params: 17,851\n",
      "Non-trainable params: 0\n",
      "_________________________________________________________________\n"
     ]
    },
    {
     "data": {
      "text/plain": [
       "'softsign'"
      ]
     },
     "execution_count": 12,
     "metadata": {},
     "output_type": "execute_result"
    }
   ],
   "source": [
    "# Summary to see what we have built\n",
    "model.summary()\n",
    "model.layers[0].get_config()[\"activation\"]"
   ]
  },
  {
   "cell_type": "code",
   "execution_count": 13,
   "metadata": {},
   "outputs": [
    {
     "data": {
      "image/png": "[encoded data removed]",
      "text/plain": [
       "<Figure size 432x288 with 1 Axes>"
      ]
     },
     "metadata": {
      "needs_background": "light"
     },
     "output_type": "display_data"
    }
   ],
   "source": [
    "# Examples of Classification\n",
    "score = model.predict(x_validation)\n",
    "results = numpy.where(score >= 0.5, 1, 0)\n",
    "plt.scatter( range(len(results[0:50])), results[0:50], c='r' )\n",
    "plt.scatter( range(len(results[0:50])), y_validation[0:50], c='g' )\n",
    "plt.show()"
   ]
  },
  {
   "cell_type": "code",
   "execution_count": 14,
   "metadata": {},
   "outputs": [
    {
     "name": "stdout",
     "output_type": "stream",
     "text": [
      "3200/3200 [==============================] - 18s 5ms/step - loss: 0.1492 - accuracy: 0.9773\n",
      "\n",
      "accuracy: 97.73%\n"
     ]
    }
   ],
   "source": [
    "# validate the model\n",
    "scores = model.evaluate(x_validation, y_validation, batch_size=10)\n",
    "print(\"\\n%s: %.2f%%\" % (model.metrics_names[1], scores[1]*100))"
   ]
  },
  {
   "cell_type": "code",
   "execution_count": 15,
   "metadata": {},
   "outputs": [],
   "source": [
    "confusion = []\n",
    "precision = []\n",
    "recall = []\n",
    "f1s = []\n",
    "kappa = []\n",
    "auc = []\n",
    "accuracy = []\n",
    "report = \"\"\n",
    "\n",
    "score = numpy.asarray(model.predict(x_validation))\n",
    "predict = numpy.where(score >= 0.5, 1, 0)\n",
    "\n",
    "accuracy.append(sklm.accuracy_score(y_validation, predict))\n",
    "auc.append(sklm.roc_auc_score(y_validation, score))\n",
    "confusion.append(sklm.confusion_matrix(y_validation, predict))\n",
    "precision.append(sklm.precision_score(y_validation, predict))\n",
    "recall.append(sklm.recall_score(y_validation, predict))\n",
    "f1s.append(sklm.f1_score(y_validation, predict))\n",
    "kappa.append(sklm.cohen_kappa_score(y_validation, predict))\n",
    "report = sklm.classification_report(y_validation, predict, digits=4)"
   ]
  },
  {
   "cell_type": "code",
   "execution_count": 16,
   "metadata": {},
   "outputs": [
    {
     "name": "stdout",
     "output_type": "stream",
     "text": [
      "Confusion Matrix:\n",
      "[[15743   386]\n",
      " [  341 15530]]\n",
      "Accuracy:\n",
      "0.9773\n",
      "Precision:\n",
      "0.9757\n",
      "Recall:\n",
      "0.9785\n",
      "F1S:\n",
      "0.9771\n",
      "Kappa:\n",
      "0.9546\n",
      "Area Under Curve (AUC):\n",
      "0.9955\n",
      "Report:\n",
      "              precision    recall  f1-score   support\n",
      "\n",
      "         0.0     0.9788    0.9761    0.9774     16129\n",
      "         1.0     0.9757    0.9785    0.9771     15871\n",
      "\n",
      "    accuracy                         0.9773     32000\n",
      "   macro avg     0.9773    0.9773    0.9773     32000\n",
      "weighted avg     0.9773    0.9773    0.9773     32000\n",
      "\n"
     ]
    }
   ],
   "source": [
    "# Show metrics\n",
    "print(\"Confusion Matrix:\")\n",
    "print(confusion[-1])\n",
    "print(\"Accuracy:\")\n",
    "print(\"%.4f\" % accuracy[-1])\n",
    "print(\"Precision:\")\n",
    "print(\"%.4f\" % precision[-1])\n",
    "print(\"Recall:\")\n",
    "print(\"%.4f\" % recall[-1])\n",
    "print(\"F1S:\")\n",
    "print(\"%.4f\" % f1s[-1])\n",
    "print(\"Kappa:\")\n",
    "print(\"%.4f\" % kappa[-1])\n",
    "print(\"Area Under Curve (AUC):\")\n",
    "print(\"%.4f\" % auc[-1])\n",
    "print(\"Report:\")\n",
    "print(report)"
   ]
  },
  {
   "cell_type": "code",
   "execution_count": null,
   "metadata": {},
   "outputs": [],
   "source": []
  }
 ],
 "metadata": {
  "kernelspec": {
   "display_name": "Python 3",
   "language": "python",
   "name": "python3"
  },
  "language_info": {
   "codemirror_mode": {
    "name": "ipython",
    "version": 3
   },
   "file_extension": ".py",
   "mimetype": "text/x-python",
   "name": "python",
   "nbconvert_exporter": "python",
   "pygments_lexer": "ipython3",
   "version": "3.6.9"
  }
 },
 "nbformat": 4,
 "nbformat_minor": 2
}
