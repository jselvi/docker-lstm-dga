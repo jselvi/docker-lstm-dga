{
 "cells": [
  {
   "cell_type": "code",
   "execution_count": 1,
   "metadata": {},
   "outputs": [],
   "source": [
    "import numpy\n",
    "\n",
    "import sklearn.metrics as sklm\n",
    "from sklearn.model_selection import train_test_split\n",
    "\n",
    "from keras.preprocessing.sequence import pad_sequences\n",
    "from keras.models import Sequential, load_model\n",
    "from keras.layers import Dense, LSTM\n",
    "from keras.callbacks import EarlyStopping, ModelCheckpoint\n",
    "\n",
    "import matplotlib.pyplot as plt"
   ]
  },
  {
   "cell_type": "code",
   "execution_count": 2,
   "metadata": {},
   "outputs": [],
   "source": [
    "# PARAMS\n",
    "lstm_size = 50\n",
    "epochs = 1000\n",
    "patience = 100\n",
    "batch_size = 10\n",
    "activation = 'softsign'"
   ]
  },
  {
   "cell_type": "code",
   "execution_count": 3,
   "metadata": {},
   "outputs": [],
   "source": [
    "# fix random seed for reproducibility\n",
    "numpy.random.seed(1234)\n",
    "\n",
    "clean_file   = \"/data/alexa-32k.txt\"\n",
    "malware_file = \"/data/dga-32k.txt\"\n",
    "save_file    = \"/models/model-new.h5\""
   ]
  },
  {
   "cell_type": "code",
   "execution_count": 4,
   "metadata": {},
   "outputs": [],
   "source": [
    "# Load clean and malware datasets\n",
    "with open(clean_file) as f:\n",
    "    clean_domains = f.read().splitlines()\n",
    "with open(malware_file) as f:\n",
    "    malware_domains = f.read().splitlines()"
   ]
  },
  {
   "cell_type": "code",
   "execution_count": 5,
   "metadata": {},
   "outputs": [],
   "source": [
    "# Create Dictionary\n",
    "charset = list(\"abcdefghijklmnopqrstuvwxyz0123456789.-\")\n",
    "dictionary = dict(zip(charset, range(len(charset))))\n",
    "reverse_dictionary = dict(zip(range(len(charset)), charset))"
   ]
  },
  {
   "cell_type": "code",
   "execution_count": 6,
   "metadata": {},
   "outputs": [],
   "source": [
    "# Translate Domain Name to Vector\n",
    "def domain_to_vector(domain, dictionary):\n",
    "    res = []\n",
    "    for c in list(domain):\n",
    "        v = [float(0)] * len(dictionary)\n",
    "        v[dictionary[c]] = 1.0\n",
    "        res.append(v)\n",
    "    return res"
   ]
  },
  {
   "cell_type": "code",
   "execution_count": 7,
   "metadata": {},
   "outputs": [],
   "source": [
    "# Translate Domain List to DataSet format\n",
    "def domainlist_to_dataset(domainlist, result, dictionary):\n",
    "    x = [ domain_to_vector(v, dictionary) for v in domainlist ]\n",
    "    y = [ [result] for y in range(len(x))]\n",
    "    \n",
    "    return x, y"
   ]
  },
  {
   "cell_type": "code",
   "execution_count": 8,
   "metadata": {},
   "outputs": [],
   "source": [
    "# Extract Domain Lists and Merge them\n",
    "x_clean_noarray, y_clean_noarray = domainlist_to_dataset(clean_domains, 0, dictionary)\n",
    "x_malware_noarray, y_malware_noarray = domainlist_to_dataset(malware_domains, 1, dictionary)\n",
    "x_noarray = x_clean_noarray + x_malware_noarray\n",
    "y_noarray = y_clean_noarray + y_malware_noarray"
   ]
  },
  {
   "cell_type": "code",
   "execution_count": 9,
   "metadata": {},
   "outputs": [
    {
     "name": "stdout",
     "output_type": "stream",
     "text": [
      "(64000, 67, 38)\n",
      "(64000, 1)\n"
     ]
    }
   ],
   "source": [
    "# Padding zeros & Convert to Array\n",
    "novalue = [float(0)] * len(dictionary)\n",
    "x_noarray_pad = pad_sequences(x_noarray, dtype=float, value=novalue, padding='post')\n",
    "x = numpy.array(x_noarray_pad, dtype=float)\n",
    "y = numpy.array(y_noarray, dtype=float)\n",
    "\n",
    "print(x.shape)\n",
    "print(y.shape)"
   ]
  },
  {
   "cell_type": "code",
   "execution_count": 10,
   "metadata": {},
   "outputs": [],
   "source": [
    "# Split DataSet into Validation Dataset & Working Dataset\n",
    "x_working, x_validation, y_working, y_validation = train_test_split(x, y, test_size=0.5, random_state=4)"
   ]
  },
  {
   "cell_type": "code",
   "execution_count": 11,
   "metadata": {},
   "outputs": [],
   "source": [
    "# Split DataSet into Training Dataset & Testing Dataset\n",
    "x_train, x_test, y_train, y_test = train_test_split(x_working, y_working, test_size=0.2,  random_state=4)"
   ]
  },
  {
   "cell_type": "code",
   "execution_count": 12,
   "metadata": {},
   "outputs": [],
   "source": [
    "# Create LSTM Model\n",
    "model = Sequential([\n",
    "        LSTM( (lstm_size), batch_input_shape=(None, x_train.shape[1], x_train.shape[2]), activation=activation, return_sequences=False),\n",
    "        Dense(1),\n",
    "    ])"
   ]
  },
  {
   "cell_type": "code",
   "execution_count": 13,
   "metadata": {},
   "outputs": [],
   "source": [
    "# Compile model\n",
    "model.compile(loss='binary_crossentropy', optimizer='adam', metrics=['accuracy'])"
   ]
  },
  {
   "cell_type": "code",
   "execution_count": 14,
   "metadata": {},
   "outputs": [
    {
     "name": "stdout",
     "output_type": "stream",
     "text": [
      "Model: \"sequential\"\n",
      "_________________________________________________________________\n",
      "Layer (type)                 Output Shape              Param #   \n",
      "=================================================================\n",
      "lstm (LSTM)                  (None, 50)                17800     \n",
      "_________________________________________________________________\n",
      "dense (Dense)                (None, 1)                 51        \n",
      "=================================================================\n",
      "Total params: 17,851\n",
      "Trainable params: 17,851\n",
      "Non-trainable params: 0\n",
      "_________________________________________________________________\n"
     ]
    }
   ],
   "source": [
    "# Summary to see what we have built\n",
    "model.summary()"
   ]
  },
  {
   "cell_type": "code",
   "execution_count": 15,
   "metadata": {},
   "outputs": [],
   "source": [
    "# Setting Callbacks\n",
    "earlyStopping=EarlyStopping(monitor='val_accuracy', patience=patience, verbose=0, mode='auto')\n",
    "checkpoint=ModelCheckpoint(save_file, monitor='val_accuracy', verbose=0, save_best_only=True, save_weights_only=False, mode='auto')"
   ]
  },
  {
   "cell_type": "code",
   "execution_count": 16,
   "metadata": {},
   "outputs": [
    {
     "name": "stdout",
     "output_type": "stream",
     "text": [
      "Epoch 1/1000\n",
      "2560/2560 [==============================] - 36s 14ms/step - loss: 0.6389 - accuracy: 0.7249 - val_loss: 0.4527 - val_accuracy: 0.7703\n",
      "Epoch 2/1000\n",
      "2560/2560 [==============================] - 34s 13ms/step - loss: 0.4552 - accuracy: 0.8017 - val_loss: 0.3185 - val_accuracy: 0.9052\n",
      "Epoch 3/1000\n",
      "2560/2560 [==============================] - 35s 14ms/step - loss: 0.6541 - accuracy: 0.6582 - val_loss: 0.6928 - val_accuracy: 0.5036\n",
      "Epoch 4/1000\n",
      "2560/2560 [==============================] - 35s 14ms/step - loss: 0.6905 - accuracy: 0.5161 - val_loss: 0.3475 - val_accuracy: 0.8458\n",
      "Epoch 5/1000\n",
      "2560/2560 [==============================] - 35s 14ms/step - loss: 0.3097 - accuracy: 0.8796 - val_loss: 0.8117 - val_accuracy: 0.4936\n",
      "Epoch 6/1000\n",
      "2560/2560 [==============================] - 35s 14ms/step - loss: 0.6790 - accuracy: 0.5287 - val_loss: 0.2652 - val_accuracy: 0.8994\n",
      "Epoch 7/1000\n",
      "2560/2560 [==============================] - 35s 14ms/step - loss: 0.2616 - accuracy: 0.9008 - val_loss: 0.2473 - val_accuracy: 0.9044\n",
      "Epoch 8/1000\n",
      "2560/2560 [==============================] - 34s 13ms/step - loss: 0.2594 - accuracy: 0.9090 - val_loss: 0.2622 - val_accuracy: 0.9158\n",
      "Epoch 9/1000\n",
      "2560/2560 [==============================] - 36s 14ms/step - loss: 0.2294 - accuracy: 0.9203 - val_loss: 0.2439 - val_accuracy: 0.9120\n",
      "Epoch 10/1000\n",
      "2560/2560 [==============================] - 35s 14ms/step - loss: 0.2661 - accuracy: 0.9032 - val_loss: 0.2604 - val_accuracy: 0.9055\n",
      "Epoch 11/1000\n",
      "2560/2560 [==============================] - 34s 13ms/step - loss: 0.2270 - accuracy: 0.9143 - val_loss: 0.2235 - val_accuracy: 0.9220\n",
      "Epoch 12/1000\n",
      "2560/2560 [==============================] - 34s 13ms/step - loss: 0.1880 - accuracy: 0.9333 - val_loss: 0.1994 - val_accuracy: 0.9294\n",
      "Epoch 13/1000\n",
      "2560/2560 [==============================] - 34s 13ms/step - loss: 0.1769 - accuracy: 0.9384 - val_loss: 0.1923 - val_accuracy: 0.9292\n",
      "Epoch 14/1000\n",
      "2560/2560 [==============================] - 34s 13ms/step - loss: 0.1802 - accuracy: 0.9383 - val_loss: 0.1905 - val_accuracy: 0.9411\n",
      "Epoch 15/1000\n",
      "2560/2560 [==============================] - 35s 14ms/step - loss: 0.1864 - accuracy: 0.9413 - val_loss: 0.1611 - val_accuracy: 0.9413\n",
      "Epoch 16/1000\n",
      "2560/2560 [==============================] - 35s 13ms/step - loss: 0.2136 - accuracy: 0.9360 - val_loss: 0.1691 - val_accuracy: 0.9411\n",
      "Epoch 17/1000\n",
      "2560/2560 [==============================] - 35s 14ms/step - loss: 0.1545 - accuracy: 0.9475 - val_loss: 0.1356 - val_accuracy: 0.9489\n",
      "Epoch 18/1000\n",
      "2560/2560 [==============================] - 35s 14ms/step - loss: 0.1493 - accuracy: 0.9497 - val_loss: 0.2636 - val_accuracy: 0.9142\n",
      "Epoch 19/1000\n",
      "2560/2560 [==============================] - 35s 14ms/step - loss: 0.2595 - accuracy: 0.9349 - val_loss: 0.1642 - val_accuracy: 0.9400\n",
      "Epoch 20/1000\n",
      "2560/2560 [==============================] - 35s 13ms/step - loss: 0.1362 - accuracy: 0.9502 - val_loss: 0.1601 - val_accuracy: 0.9492\n",
      "Epoch 21/1000\n",
      "2560/2560 [==============================] - 35s 14ms/step - loss: 0.1360 - accuracy: 0.9540 - val_loss: 0.1873 - val_accuracy: 0.9359\n",
      "Epoch 22/1000\n",
      "2560/2560 [==============================] - 35s 14ms/step - loss: 0.1278 - accuracy: 0.9560 - val_loss: 0.1674 - val_accuracy: 0.9513\n",
      "Epoch 23/1000\n",
      "2560/2560 [==============================] - 35s 14ms/step - loss: 0.1143 - accuracy: 0.9607 - val_loss: 0.2609 - val_accuracy: 0.9195\n",
      "Epoch 24/1000\n",
      "2560/2560 [==============================] - 35s 14ms/step - loss: 0.1783 - accuracy: 0.9498 - val_loss: 0.1671 - val_accuracy: 0.9511\n",
      "Epoch 25/1000\n",
      "2560/2560 [==============================] - 35s 14ms/step - loss: 0.1246 - accuracy: 0.9609 - val_loss: 0.1304 - val_accuracy: 0.9563\n",
      "Epoch 26/1000\n",
      "2560/2560 [==============================] - 35s 14ms/step - loss: 0.1135 - accuracy: 0.9620 - val_loss: 1.3552 - val_accuracy: 0.7392\n",
      "Epoch 27/1000\n",
      "2560/2560 [==============================] - 35s 14ms/step - loss: 0.2631 - accuracy: 0.9411 - val_loss: 0.1499 - val_accuracy: 0.9541\n",
      "Epoch 28/1000\n",
      "2560/2560 [==============================] - 35s 14ms/step - loss: 0.1049 - accuracy: 0.9621 - val_loss: 0.1762 - val_accuracy: 0.9545\n",
      "Epoch 29/1000\n",
      "2560/2560 [==============================] - 35s 14ms/step - loss: 0.1526 - accuracy: 0.9563 - val_loss: 0.1450 - val_accuracy: 0.9577\n",
      "Epoch 30/1000\n",
      "2560/2560 [==============================] - 35s 14ms/step - loss: 0.1035 - accuracy: 0.9665 - val_loss: 0.1817 - val_accuracy: 0.9559\n",
      "Epoch 31/1000\n",
      "2560/2560 [==============================] - 35s 14ms/step - loss: 0.1002 - accuracy: 0.9686 - val_loss: 0.1479 - val_accuracy: 0.9545\n",
      "Epoch 32/1000\n",
      "2560/2560 [==============================] - 35s 14ms/step - loss: 0.0831 - accuracy: 0.9686 - val_loss: 0.1382 - val_accuracy: 0.9553\n",
      "Epoch 33/1000\n",
      "2560/2560 [==============================] - 35s 14ms/step - loss: 0.1061 - accuracy: 0.9679 - val_loss: 0.1523 - val_accuracy: 0.9478\n",
      "Epoch 34/1000\n",
      "2560/2560 [==============================] - 35s 14ms/step - loss: 0.1081 - accuracy: 0.9644 - val_loss: 0.1585 - val_accuracy: 0.9584\n",
      "Epoch 35/1000\n",
      "2560/2560 [==============================] - 35s 14ms/step - loss: 0.0768 - accuracy: 0.9733 - val_loss: 0.1514 - val_accuracy: 0.9600\n",
      "Epoch 36/1000\n",
      "2560/2560 [==============================] - 35s 14ms/step - loss: 0.0836 - accuracy: 0.9713 - val_loss: 0.1447 - val_accuracy: 0.9588\n",
      "Epoch 37/1000\n",
      "2560/2560 [==============================] - 35s 14ms/step - loss: 0.0812 - accuracy: 0.9727 - val_loss: 0.1594 - val_accuracy: 0.9500\n",
      "Epoch 38/1000\n",
      "2560/2560 [==============================] - 35s 14ms/step - loss: 0.0809 - accuracy: 0.9721 - val_loss: 0.1397 - val_accuracy: 0.9578\n",
      "Epoch 39/1000\n",
      "2560/2560 [==============================] - 35s 14ms/step - loss: 0.0647 - accuracy: 0.9780 - val_loss: 0.1707 - val_accuracy: 0.9591\n",
      "Epoch 40/1000\n",
      "2560/2560 [==============================] - 35s 14ms/step - loss: 0.0671 - accuracy: 0.9783 - val_loss: 0.2432 - val_accuracy: 0.9583\n",
      "Epoch 41/1000\n",
      "2560/2560 [==============================] - 35s 14ms/step - loss: 0.0851 - accuracy: 0.9762 - val_loss: 0.1594 - val_accuracy: 0.9589\n",
      "Epoch 42/1000\n",
      "2560/2560 [==============================] - 35s 14ms/step - loss: 0.0599 - accuracy: 0.9804 - val_loss: 0.1408 - val_accuracy: 0.9627\n",
      "Epoch 43/1000\n",
      "2560/2560 [==============================] - 35s 14ms/step - loss: 0.0695 - accuracy: 0.9807 - val_loss: 0.1777 - val_accuracy: 0.9625\n",
      "Epoch 44/1000\n",
      "2560/2560 [==============================] - 35s 14ms/step - loss: 0.0630 - accuracy: 0.9823 - val_loss: 0.2215 - val_accuracy: 0.9605\n",
      "Epoch 45/1000\n",
      "2560/2560 [==============================] - 35s 14ms/step - loss: 0.0630 - accuracy: 0.9833 - val_loss: 0.1731 - val_accuracy: 0.9606\n",
      "Epoch 46/1000\n",
      "2560/2560 [==============================] - 35s 14ms/step - loss: 0.0591 - accuracy: 0.9845 - val_loss: 0.1891 - val_accuracy: 0.9591\n",
      "Epoch 47/1000\n",
      "2560/2560 [==============================] - 35s 14ms/step - loss: 0.0486 - accuracy: 0.9841 - val_loss: 0.2214 - val_accuracy: 0.9638\n",
      "Epoch 48/1000\n",
      "2560/2560 [==============================] - 35s 14ms/step - loss: 0.0476 - accuracy: 0.9874 - val_loss: 0.1765 - val_accuracy: 0.9625\n",
      "Epoch 49/1000\n",
      "2560/2560 [==============================] - 36s 14ms/step - loss: 0.0754 - accuracy: 0.9801 - val_loss: 0.1912 - val_accuracy: 0.9569\n",
      "Epoch 50/1000\n",
      "2560/2560 [==============================] - 35s 14ms/step - loss: 0.0495 - accuracy: 0.9840 - val_loss: 0.2520 - val_accuracy: 0.9614\n",
      "Epoch 51/1000\n",
      "2560/2560 [==============================] - 35s 14ms/step - loss: 0.0429 - accuracy: 0.9879 - val_loss: 0.4329 - val_accuracy: 0.9348\n",
      "Epoch 52/1000\n",
      "2560/2560 [==============================] - 35s 14ms/step - loss: 0.0477 - accuracy: 0.9857 - val_loss: 0.2481 - val_accuracy: 0.9641\n",
      "Epoch 53/1000\n",
      "2560/2560 [==============================] - 35s 14ms/step - loss: 0.0448 - accuracy: 0.9891 - val_loss: 0.2719 - val_accuracy: 0.9606\n",
      "Epoch 54/1000\n",
      "2560/2560 [==============================] - 35s 14ms/step - loss: 0.0439 - accuracy: 0.9895 - val_loss: 0.2634 - val_accuracy: 0.9631\n",
      "Epoch 55/1000\n",
      "2560/2560 [==============================] - 35s 14ms/step - loss: 0.0312 - accuracy: 0.9912 - val_loss: 0.5108 - val_accuracy: 0.9144\n",
      "Epoch 56/1000\n"
     ]
    },
    {
     "name": "stdout",
     "output_type": "stream",
     "text": [
      "2560/2560 [==============================] - 34s 13ms/step - loss: 0.0615 - accuracy: 0.9838 - val_loss: 0.2313 - val_accuracy: 0.9603\n",
      "Epoch 57/1000\n",
      "2560/2560 [==============================] - 34s 13ms/step - loss: 0.0406 - accuracy: 0.9914 - val_loss: 0.2869 - val_accuracy: 0.9636\n",
      "Epoch 58/1000\n",
      "2560/2560 [==============================] - 35s 13ms/step - loss: 0.0339 - accuracy: 0.9915 - val_loss: 0.3268 - val_accuracy: 0.9623\n",
      "Epoch 59/1000\n",
      "2560/2560 [==============================] - 35s 14ms/step - loss: 0.1417 - accuracy: 0.9732 - val_loss: 0.2385 - val_accuracy: 0.9591\n",
      "Epoch 60/1000\n",
      "2560/2560 [==============================] - 35s 14ms/step - loss: 0.0444 - accuracy: 0.9883 - val_loss: 0.2697 - val_accuracy: 0.9614\n",
      "Epoch 61/1000\n",
      "2560/2560 [==============================] - 36s 14ms/step - loss: 0.0335 - accuracy: 0.9922 - val_loss: 0.3585 - val_accuracy: 0.9603\n",
      "Epoch 62/1000\n",
      "2560/2560 [==============================] - 35s 14ms/step - loss: 0.0468 - accuracy: 0.9894 - val_loss: 0.3220 - val_accuracy: 0.9639\n",
      "Epoch 63/1000\n",
      "2560/2560 [==============================] - 35s 14ms/step - loss: 0.0264 - accuracy: 0.9932 - val_loss: 0.3800 - val_accuracy: 0.9622\n",
      "Epoch 64/1000\n",
      "2560/2560 [==============================] - 35s 14ms/step - loss: 0.0539 - accuracy: 0.9905 - val_loss: 0.1957 - val_accuracy: 0.9614\n",
      "Epoch 65/1000\n",
      "2560/2560 [==============================] - 35s 14ms/step - loss: 0.0428 - accuracy: 0.9893 - val_loss: 0.2794 - val_accuracy: 0.9647\n",
      "Epoch 66/1000\n",
      "2560/2560 [==============================] - 35s 14ms/step - loss: 0.0268 - accuracy: 0.9950 - val_loss: 0.3345 - val_accuracy: 0.9628\n",
      "Epoch 67/1000\n",
      "2560/2560 [==============================] - 35s 14ms/step - loss: 0.0293 - accuracy: 0.9936 - val_loss: 0.2176 - val_accuracy: 0.9555\n",
      "Epoch 68/1000\n",
      "2560/2560 [==============================] - 35s 14ms/step - loss: 0.0488 - accuracy: 0.9868 - val_loss: 0.2616 - val_accuracy: 0.9630\n",
      "Epoch 69/1000\n",
      "2560/2560 [==============================] - 35s 14ms/step - loss: 0.0337 - accuracy: 0.9918 - val_loss: 0.3015 - val_accuracy: 0.9636\n",
      "Epoch 70/1000\n",
      "2560/2560 [==============================] - 35s 14ms/step - loss: 0.0330 - accuracy: 0.9932 - val_loss: 0.3135 - val_accuracy: 0.9631\n",
      "Epoch 71/1000\n",
      "2560/2560 [==============================] - 35s 14ms/step - loss: 0.0324 - accuracy: 0.9946 - val_loss: 0.3176 - val_accuracy: 0.9645\n",
      "Epoch 72/1000\n",
      "2560/2560 [==============================] - 35s 14ms/step - loss: 0.0246 - accuracy: 0.9956 - val_loss: 0.4243 - val_accuracy: 0.9598\n",
      "Epoch 73/1000\n",
      "2560/2560 [==============================] - 35s 14ms/step - loss: 0.0369 - accuracy: 0.9940 - val_loss: 0.3617 - val_accuracy: 0.9627\n",
      "Epoch 74/1000\n",
      "2560/2560 [==============================] - 35s 14ms/step - loss: 0.0334 - accuracy: 0.9940 - val_loss: 0.4385 - val_accuracy: 0.9620\n",
      "Epoch 75/1000\n",
      "2560/2560 [==============================] - 35s 14ms/step - loss: 0.0420 - accuracy: 0.9919 - val_loss: 0.3645 - val_accuracy: 0.9614\n",
      "Epoch 76/1000\n",
      "2560/2560 [==============================] - 35s 14ms/step - loss: 0.0295 - accuracy: 0.9953 - val_loss: 0.3424 - val_accuracy: 0.9633\n",
      "Epoch 77/1000\n",
      "2560/2560 [==============================] - 35s 14ms/step - loss: 0.0182 - accuracy: 0.9968 - val_loss: 0.4065 - val_accuracy: 0.9634\n",
      "Epoch 78/1000\n",
      "2560/2560 [==============================] - 35s 14ms/step - loss: 0.0673 - accuracy: 0.9880 - val_loss: 0.2861 - val_accuracy: 0.9617\n",
      "Epoch 79/1000\n",
      "2560/2560 [==============================] - 35s 14ms/step - loss: 0.0332 - accuracy: 0.9939 - val_loss: 0.3477 - val_accuracy: 0.9616\n",
      "Epoch 80/1000\n",
      "2560/2560 [==============================] - 35s 14ms/step - loss: 0.0171 - accuracy: 0.9976 - val_loss: 0.3704 - val_accuracy: 0.9614\n",
      "Epoch 81/1000\n",
      "2560/2560 [==============================] - 35s 14ms/step - loss: 0.0194 - accuracy: 0.9972 - val_loss: 0.3480 - val_accuracy: 0.9625\n",
      "Epoch 82/1000\n",
      "2560/2560 [==============================] - 35s 14ms/step - loss: 0.0216 - accuracy: 0.9959 - val_loss: 0.3727 - val_accuracy: 0.9623\n",
      "Epoch 83/1000\n",
      "2560/2560 [==============================] - 35s 14ms/step - loss: 0.0214 - accuracy: 0.9974 - val_loss: 0.3276 - val_accuracy: 0.9608\n",
      "Epoch 84/1000\n",
      "2560/2560 [==============================] - 35s 14ms/step - loss: 0.0158 - accuracy: 0.9977 - val_loss: 0.4744 - val_accuracy: 0.9605\n",
      "Epoch 85/1000\n",
      "2560/2560 [==============================] - 35s 14ms/step - loss: 0.0316 - accuracy: 0.9952 - val_loss: 0.4107 - val_accuracy: 0.9620\n",
      "Epoch 86/1000\n",
      "2560/2560 [==============================] - 35s 14ms/step - loss: 0.0321 - accuracy: 0.9950 - val_loss: 0.2636 - val_accuracy: 0.9636\n",
      "Epoch 87/1000\n",
      "2560/2560 [==============================] - 35s 14ms/step - loss: 0.0209 - accuracy: 0.9971 - val_loss: 0.3758 - val_accuracy: 0.9650\n",
      "Epoch 88/1000\n",
      "2560/2560 [==============================] - 35s 14ms/step - loss: 0.0113 - accuracy: 0.9991 - val_loss: 0.6640 - val_accuracy: 0.9503\n",
      "Epoch 89/1000\n",
      "2560/2560 [==============================] - 35s 14ms/step - loss: 0.1162 - accuracy: 0.9891 - val_loss: 0.4249 - val_accuracy: 0.9633\n",
      "Epoch 90/1000\n",
      "2560/2560 [==============================] - 35s 14ms/step - loss: 0.0148 - accuracy: 0.9978 - val_loss: 0.4650 - val_accuracy: 0.9622\n",
      "Epoch 91/1000\n",
      "2560/2560 [==============================] - 35s 14ms/step - loss: 0.0384 - accuracy: 0.9953 - val_loss: 0.4183 - val_accuracy: 0.9634\n",
      "Epoch 92/1000\n",
      "2560/2560 [==============================] - 35s 14ms/step - loss: 0.0176 - accuracy: 0.9983 - val_loss: 0.5177 - val_accuracy: 0.9556\n",
      "Epoch 93/1000\n",
      "2560/2560 [==============================] - 35s 14ms/step - loss: 0.0240 - accuracy: 0.9970 - val_loss: 0.4487 - val_accuracy: 0.9633\n",
      "Epoch 94/1000\n",
      "2560/2560 [==============================] - 35s 14ms/step - loss: 0.0245 - accuracy: 0.9975 - val_loss: 0.3373 - val_accuracy: 0.9611\n",
      "Epoch 95/1000\n",
      "2560/2560 [==============================] - 35s 14ms/step - loss: 0.0385 - accuracy: 0.9943 - val_loss: 0.3887 - val_accuracy: 0.9642\n",
      "Epoch 96/1000\n",
      "2560/2560 [==============================] - 35s 14ms/step - loss: 0.0185 - accuracy: 0.9985 - val_loss: 0.4104 - val_accuracy: 0.9620\n",
      "Epoch 97/1000\n",
      "2560/2560 [==============================] - 35s 14ms/step - loss: 0.0221 - accuracy: 0.9966 - val_loss: 0.3542 - val_accuracy: 0.9638\n",
      "Epoch 98/1000\n",
      "2560/2560 [==============================] - 35s 14ms/step - loss: 0.0206 - accuracy: 0.9961 - val_loss: 0.3931 - val_accuracy: 0.9638\n",
      "Epoch 99/1000\n",
      "2560/2560 [==============================] - 35s 14ms/step - loss: 0.0120 - accuracy: 0.9982 - val_loss: 0.4235 - val_accuracy: 0.9659\n",
      "Epoch 100/1000\n",
      "2560/2560 [==============================] - 35s 14ms/step - loss: 0.0202 - accuracy: 0.9969 - val_loss: 0.4954 - val_accuracy: 0.9572\n",
      "Epoch 101/1000\n",
      "2560/2560 [==============================] - 35s 14ms/step - loss: 0.0434 - accuracy: 0.9930 - val_loss: 0.3697 - val_accuracy: 0.9634\n",
      "Epoch 102/1000\n",
      "2560/2560 [==============================] - 35s 14ms/step - loss: 0.0164 - accuracy: 0.9985 - val_loss: 0.4301 - val_accuracy: 0.9625\n",
      "Epoch 103/1000\n",
      "2560/2560 [==============================] - 36s 14ms/step - loss: 0.0232 - accuracy: 0.9976 - val_loss: 0.3942 - val_accuracy: 0.9631\n",
      "Epoch 104/1000\n",
      "2560/2560 [==============================] - 35s 14ms/step - loss: 0.0341 - accuracy: 0.9964 - val_loss: 0.2395 - val_accuracy: 0.9588\n",
      "Epoch 105/1000\n",
      "2560/2560 [==============================] - 35s 14ms/step - loss: 0.0510 - accuracy: 0.9918 - val_loss: 0.3593 - val_accuracy: 0.9631\n",
      "Epoch 106/1000\n",
      "2560/2560 [==============================] - 35s 14ms/step - loss: 0.0147 - accuracy: 0.9985 - val_loss: 0.4215 - val_accuracy: 0.9630\n",
      "Epoch 107/1000\n",
      "2560/2560 [==============================] - 35s 14ms/step - loss: 0.0099 - accuracy: 0.9992 - val_loss: 0.4787 - val_accuracy: 0.9606\n",
      "Epoch 108/1000\n",
      "2560/2560 [==============================] - 35s 14ms/step - loss: 0.0714 - accuracy: 0.9907 - val_loss: 0.2760 - val_accuracy: 0.9614\n",
      "Epoch 109/1000\n",
      "2560/2560 [==============================] - 35s 14ms/step - loss: 0.0263 - accuracy: 0.9950 - val_loss: 0.3294 - val_accuracy: 0.9625\n",
      "Epoch 110/1000\n",
      "2560/2560 [==============================] - 35s 14ms/step - loss: 0.0144 - accuracy: 0.9989 - val_loss: 0.4107 - val_accuracy: 0.9641\n",
      "Epoch 111/1000\n"
     ]
    },
    {
     "name": "stdout",
     "output_type": "stream",
     "text": [
      "2560/2560 [==============================] - 34s 13ms/step - loss: 0.0109 - accuracy: 0.9991 - val_loss: 0.4364 - val_accuracy: 0.9622\n",
      "Epoch 112/1000\n",
      "2560/2560 [==============================] - 34s 13ms/step - loss: 0.0259 - accuracy: 0.9973 - val_loss: 0.4383 - val_accuracy: 0.9628\n",
      "Epoch 113/1000\n",
      "2560/2560 [==============================] - 34s 13ms/step - loss: 0.0211 - accuracy: 0.9979 - val_loss: 0.4233 - val_accuracy: 0.9622\n",
      "Epoch 114/1000\n",
      "2560/2560 [==============================] - 34s 13ms/step - loss: 0.0263 - accuracy: 0.9974 - val_loss: 0.4647 - val_accuracy: 0.9592\n",
      "Epoch 115/1000\n",
      "2560/2560 [==============================] - 34s 13ms/step - loss: 0.0230 - accuracy: 0.9978 - val_loss: 0.3734 - val_accuracy: 0.9608\n",
      "Epoch 116/1000\n",
      "2560/2560 [==============================] - 35s 13ms/step - loss: 0.0204 - accuracy: 0.9973 - val_loss: 0.3939 - val_accuracy: 0.9638\n",
      "Epoch 117/1000\n",
      "2560/2560 [==============================] - 34s 13ms/step - loss: 0.0119 - accuracy: 0.9992 - val_loss: 0.4182 - val_accuracy: 0.9622\n",
      "Epoch 118/1000\n",
      "2560/2560 [==============================] - 34s 13ms/step - loss: 0.0241 - accuracy: 0.9967 - val_loss: 0.4264 - val_accuracy: 0.9609\n",
      "Epoch 119/1000\n",
      "2560/2560 [==============================] - 34s 13ms/step - loss: 0.0117 - accuracy: 0.9989 - val_loss: 0.3957 - val_accuracy: 0.9628\n",
      "Epoch 120/1000\n",
      "2560/2560 [==============================] - 34s 13ms/step - loss: 0.0399 - accuracy: 0.9964 - val_loss: 0.3514 - val_accuracy: 0.9614\n",
      "Epoch 121/1000\n",
      "2560/2560 [==============================] - 34s 13ms/step - loss: 0.0221 - accuracy: 0.9963 - val_loss: 0.4021 - val_accuracy: 0.9625\n",
      "Epoch 122/1000\n",
      "2560/2560 [==============================] - 35s 14ms/step - loss: 0.0129 - accuracy: 0.9991 - val_loss: 0.4408 - val_accuracy: 0.9636\n",
      "Epoch 123/1000\n",
      "2560/2560 [==============================] - 34s 13ms/step - loss: 0.0225 - accuracy: 0.9979 - val_loss: 0.4243 - val_accuracy: 0.9608\n",
      "Epoch 124/1000\n",
      "2560/2560 [==============================] - 34s 13ms/step - loss: 0.0159 - accuracy: 0.9982 - val_loss: 0.4876 - val_accuracy: 0.9614\n",
      "Epoch 125/1000\n",
      "2560/2560 [==============================] - 35s 13ms/step - loss: 0.0151 - accuracy: 0.9986 - val_loss: 0.5242 - val_accuracy: 0.9597\n",
      "Epoch 126/1000\n",
      "2560/2560 [==============================] - 35s 14ms/step - loss: 0.0356 - accuracy: 0.9967 - val_loss: 0.4745 - val_accuracy: 0.9630\n",
      "Epoch 127/1000\n",
      "2560/2560 [==============================] - 35s 13ms/step - loss: 0.0165 - accuracy: 0.9987 - val_loss: 0.4729 - val_accuracy: 0.9641\n",
      "Epoch 128/1000\n",
      "2560/2560 [==============================] - 34s 13ms/step - loss: 0.0510 - accuracy: 0.9950 - val_loss: 0.4379 - val_accuracy: 0.9630\n",
      "Epoch 129/1000\n",
      "2560/2560 [==============================] - 34s 13ms/step - loss: 0.0204 - accuracy: 0.9984 - val_loss: 0.4672 - val_accuracy: 0.9631\n",
      "Epoch 130/1000\n",
      "2560/2560 [==============================] - 34s 13ms/step - loss: 0.0208 - accuracy: 0.9981 - val_loss: 0.4262 - val_accuracy: 0.9625\n",
      "Epoch 131/1000\n",
      "2560/2560 [==============================] - 34s 13ms/step - loss: 0.0174 - accuracy: 0.9972 - val_loss: 0.4149 - val_accuracy: 0.9628\n",
      "Epoch 132/1000\n",
      "2560/2560 [==============================] - 35s 14ms/step - loss: 0.0177 - accuracy: 0.9988 - val_loss: 0.4665 - val_accuracy: 0.9620\n",
      "Epoch 133/1000\n",
      "2560/2560 [==============================] - 35s 14ms/step - loss: 0.0208 - accuracy: 0.9981 - val_loss: 0.4266 - val_accuracy: 0.9614\n",
      "Epoch 134/1000\n",
      "2560/2560 [==============================] - 35s 14ms/step - loss: 0.0160 - accuracy: 0.9986 - val_loss: 0.4711 - val_accuracy: 0.9616\n",
      "Epoch 135/1000\n",
      "2560/2560 [==============================] - 35s 14ms/step - loss: 0.0452 - accuracy: 0.9942 - val_loss: 0.4096 - val_accuracy: 0.9594\n",
      "Epoch 136/1000\n",
      "2560/2560 [==============================] - 35s 14ms/step - loss: 0.0192 - accuracy: 0.9973 - val_loss: 0.4373 - val_accuracy: 0.9617\n",
      "Epoch 137/1000\n",
      "2560/2560 [==============================] - 35s 14ms/step - loss: 0.0111 - accuracy: 0.9989 - val_loss: 0.4511 - val_accuracy: 0.9614\n",
      "Epoch 138/1000\n",
      "2560/2560 [==============================] - 35s 14ms/step - loss: 0.0204 - accuracy: 0.9984 - val_loss: 0.4505 - val_accuracy: 0.9608\n",
      "Epoch 139/1000\n",
      "2560/2560 [==============================] - 35s 13ms/step - loss: 0.0225 - accuracy: 0.9974 - val_loss: 0.4641 - val_accuracy: 0.9606\n",
      "Epoch 140/1000\n",
      "2560/2560 [==============================] - 35s 14ms/step - loss: 0.0150 - accuracy: 0.9987 - val_loss: 0.4706 - val_accuracy: 0.9617\n",
      "Epoch 141/1000\n",
      "2560/2560 [==============================] - 35s 14ms/step - loss: 0.0278 - accuracy: 0.9975 - val_loss: 0.4430 - val_accuracy: 0.9627\n",
      "Epoch 142/1000\n",
      "2560/2560 [==============================] - 35s 14ms/step - loss: 0.0161 - accuracy: 0.9987 - val_loss: 0.5069 - val_accuracy: 0.9609\n",
      "Epoch 143/1000\n",
      "2560/2560 [==============================] - 35s 14ms/step - loss: 0.0203 - accuracy: 0.9982 - val_loss: 0.5091 - val_accuracy: 0.9597\n",
      "Epoch 144/1000\n",
      "2560/2560 [==============================] - 34s 13ms/step - loss: 0.0201 - accuracy: 0.9975 - val_loss: 0.4825 - val_accuracy: 0.9620\n",
      "Epoch 145/1000\n",
      "2560/2560 [==============================] - 35s 13ms/step - loss: 0.0123 - accuracy: 0.9990 - val_loss: 0.4553 - val_accuracy: 0.9614\n",
      "Epoch 146/1000\n",
      "2560/2560 [==============================] - 35s 13ms/step - loss: 0.0175 - accuracy: 0.9987 - val_loss: 0.4922 - val_accuracy: 0.9613\n",
      "Epoch 147/1000\n",
      "2560/2560 [==============================] - 35s 14ms/step - loss: 0.0213 - accuracy: 0.9982 - val_loss: 0.4741 - val_accuracy: 0.9648\n",
      "Epoch 148/1000\n",
      "2560/2560 [==============================] - 35s 14ms/step - loss: 0.0179 - accuracy: 0.9984 - val_loss: 0.4762 - val_accuracy: 0.9628\n",
      "Epoch 149/1000\n",
      "2560/2560 [==============================] - 35s 14ms/step - loss: 0.0295 - accuracy: 0.9973 - val_loss: 0.4406 - val_accuracy: 0.9625\n",
      "Epoch 150/1000\n",
      "2560/2560 [==============================] - 35s 14ms/step - loss: 0.0148 - accuracy: 0.9983 - val_loss: 0.4722 - val_accuracy: 0.9620\n",
      "Epoch 151/1000\n",
      "2560/2560 [==============================] - 35s 14ms/step - loss: 0.0189 - accuracy: 0.9984 - val_loss: 0.4692 - val_accuracy: 0.9633\n",
      "Epoch 152/1000\n",
      "2560/2560 [==============================] - 36s 14ms/step - loss: 0.0205 - accuracy: 0.9982 - val_loss: 0.5021 - val_accuracy: 0.9611\n",
      "Epoch 153/1000\n",
      "2560/2560 [==============================] - 34s 13ms/step - loss: 0.0219 - accuracy: 0.9976 - val_loss: 0.4821 - val_accuracy: 0.9614\n",
      "Epoch 154/1000\n",
      "2560/2560 [==============================] - 34s 13ms/step - loss: 0.0277 - accuracy: 0.9979 - val_loss: 0.4802 - val_accuracy: 0.9638\n",
      "Epoch 155/1000\n",
      "2560/2560 [==============================] - 34s 13ms/step - loss: 0.0516 - accuracy: 0.9950 - val_loss: 0.4609 - val_accuracy: 0.9636\n",
      "Epoch 156/1000\n",
      "2560/2560 [==============================] - 34s 13ms/step - loss: 0.0163 - accuracy: 0.9985 - val_loss: 0.4594 - val_accuracy: 0.9647\n",
      "Epoch 157/1000\n",
      "2560/2560 [==============================] - 34s 13ms/step - loss: 0.0158 - accuracy: 0.9988 - val_loss: 0.4749 - val_accuracy: 0.9639\n",
      "Epoch 158/1000\n",
      "2560/2560 [==============================] - 34s 13ms/step - loss: 0.0205 - accuracy: 0.9982 - val_loss: 0.5062 - val_accuracy: 0.9605\n",
      "Epoch 159/1000\n",
      "2560/2560 [==============================] - 34s 13ms/step - loss: 0.0284 - accuracy: 0.9961 - val_loss: 0.4553 - val_accuracy: 0.9642\n",
      "Epoch 160/1000\n",
      "2560/2560 [==============================] - 34s 13ms/step - loss: 0.0159 - accuracy: 0.9983 - val_loss: 0.4569 - val_accuracy: 0.9639\n",
      "Epoch 161/1000\n",
      "2560/2560 [==============================] - 34s 13ms/step - loss: 0.0323 - accuracy: 0.9971 - val_loss: 0.4148 - val_accuracy: 0.9630\n",
      "Epoch 162/1000\n",
      "2560/2560 [==============================] - 34s 13ms/step - loss: 0.0131 - accuracy: 0.9991 - val_loss: 0.4561 - val_accuracy: 0.9652\n",
      "Epoch 163/1000\n",
      "2560/2560 [==============================] - 34s 13ms/step - loss: 0.0120 - accuracy: 0.9991 - val_loss: 0.4665 - val_accuracy: 0.9645\n",
      "Epoch 164/1000\n",
      "2560/2560 [==============================] - 34s 13ms/step - loss: 0.0192 - accuracy: 0.9980 - val_loss: 0.5062 - val_accuracy: 0.9633\n",
      "Epoch 165/1000\n",
      "2560/2560 [==============================] - 34s 13ms/step - loss: 0.0177 - accuracy: 0.9980 - val_loss: 0.5047 - val_accuracy: 0.9627\n"
     ]
    },
    {
     "name": "stdout",
     "output_type": "stream",
     "text": [
      "Epoch 166/1000\n",
      "2560/2560 [==============================] - 34s 13ms/step - loss: 0.0236 - accuracy: 0.9982 - val_loss: 0.5340 - val_accuracy: 0.9605\n",
      "Epoch 167/1000\n",
      "2560/2560 [==============================] - 34s 13ms/step - loss: 0.0265 - accuracy: 0.9973 - val_loss: 0.5181 - val_accuracy: 0.9620\n",
      "Epoch 168/1000\n",
      "2560/2560 [==============================] - 34s 13ms/step - loss: 0.0161 - accuracy: 0.9985 - val_loss: 0.4405 - val_accuracy: 0.9617\n",
      "Epoch 169/1000\n",
      "2560/2560 [==============================] - 34s 13ms/step - loss: 0.0142 - accuracy: 0.9984 - val_loss: 0.4890 - val_accuracy: 0.9620\n",
      "Epoch 170/1000\n",
      "2560/2560 [==============================] - 34s 13ms/step - loss: 0.0167 - accuracy: 0.9987 - val_loss: 0.5115 - val_accuracy: 0.9628\n",
      "Epoch 171/1000\n",
      "2560/2560 [==============================] - 34s 13ms/step - loss: 0.0380 - accuracy: 0.9965 - val_loss: 0.4646 - val_accuracy: 0.9641\n",
      "Epoch 172/1000\n",
      "2560/2560 [==============================] - 34s 13ms/step - loss: 0.0202 - accuracy: 0.9986 - val_loss: 0.4976 - val_accuracy: 0.9620\n",
      "Epoch 173/1000\n",
      "2560/2560 [==============================] - 34s 13ms/step - loss: 0.0165 - accuracy: 0.9987 - val_loss: 0.4945 - val_accuracy: 0.9636\n",
      "Epoch 174/1000\n",
      "2560/2560 [==============================] - 34s 13ms/step - loss: 0.0123 - accuracy: 0.9986 - val_loss: 0.5000 - val_accuracy: 0.9614\n",
      "Epoch 175/1000\n",
      "2560/2560 [==============================] - 34s 13ms/step - loss: 0.0457 - accuracy: 0.9961 - val_loss: 0.4697 - val_accuracy: 0.9620\n",
      "Epoch 176/1000\n",
      "2560/2560 [==============================] - 34s 13ms/step - loss: 0.0211 - accuracy: 0.9980 - val_loss: 0.4671 - val_accuracy: 0.9619\n",
      "Epoch 177/1000\n",
      "2560/2560 [==============================] - 34s 13ms/step - loss: 0.0130 - accuracy: 0.9989 - val_loss: 0.4989 - val_accuracy: 0.9620\n",
      "Epoch 178/1000\n",
      "2560/2560 [==============================] - 34s 13ms/step - loss: 0.0141 - accuracy: 0.9981 - val_loss: 0.4389 - val_accuracy: 0.9611\n",
      "Epoch 179/1000\n",
      "2560/2560 [==============================] - 34s 13ms/step - loss: 0.0111 - accuracy: 0.9988 - val_loss: 0.4735 - val_accuracy: 0.9633\n",
      "Epoch 180/1000\n",
      "2560/2560 [==============================] - 34s 13ms/step - loss: 0.0098 - accuracy: 0.9994 - val_loss: 0.5084 - val_accuracy: 0.9611\n",
      "Epoch 181/1000\n",
      "2560/2560 [==============================] - 34s 13ms/step - loss: 0.0231 - accuracy: 0.9975 - val_loss: 0.4440 - val_accuracy: 0.9619\n",
      "Epoch 182/1000\n",
      "2560/2560 [==============================] - 34s 13ms/step - loss: 0.0180 - accuracy: 0.9988 - val_loss: 0.5058 - val_accuracy: 0.9608\n",
      "Epoch 183/1000\n",
      "2560/2560 [==============================] - 34s 13ms/step - loss: 0.0174 - accuracy: 0.9984 - val_loss: 0.4662 - val_accuracy: 0.9620\n",
      "Epoch 184/1000\n",
      "2560/2560 [==============================] - 34s 13ms/step - loss: 0.0191 - accuracy: 0.9985 - val_loss: 0.5178 - val_accuracy: 0.9616\n",
      "Epoch 185/1000\n",
      "2560/2560 [==============================] - 34s 13ms/step - loss: 0.0184 - accuracy: 0.9980 - val_loss: 0.5100 - val_accuracy: 0.9606\n",
      "Epoch 186/1000\n",
      "2560/2560 [==============================] - 34s 13ms/step - loss: 0.0131 - accuracy: 0.9989 - val_loss: 0.5056 - val_accuracy: 0.9600\n",
      "Epoch 187/1000\n",
      "2560/2560 [==============================] - 34s 13ms/step - loss: 0.0136 - accuracy: 0.9985 - val_loss: 0.4913 - val_accuracy: 0.9616\n",
      "Epoch 188/1000\n",
      "2560/2560 [==============================] - 34s 13ms/step - loss: 0.0184 - accuracy: 0.9980 - val_loss: 0.4897 - val_accuracy: 0.9625\n",
      "Epoch 189/1000\n",
      "2560/2560 [==============================] - 34s 13ms/step - loss: 0.0144 - accuracy: 0.9988 - val_loss: 0.4642 - val_accuracy: 0.9630\n",
      "Epoch 190/1000\n",
      "2560/2560 [==============================] - 34s 13ms/step - loss: 0.0127 - accuracy: 0.9991 - val_loss: 0.4735 - val_accuracy: 0.9644\n",
      "Epoch 191/1000\n",
      "2560/2560 [==============================] - 34s 13ms/step - loss: 0.0174 - accuracy: 0.9984 - val_loss: 0.4791 - val_accuracy: 0.9638\n",
      "Epoch 192/1000\n",
      "2560/2560 [==============================] - 34s 13ms/step - loss: 0.0214 - accuracy: 0.9982 - val_loss: 0.4883 - val_accuracy: 0.9616\n",
      "Epoch 193/1000\n",
      "2560/2560 [==============================] - 34s 13ms/step - loss: 0.0270 - accuracy: 0.9979 - val_loss: 0.4549 - val_accuracy: 0.9648\n",
      "Epoch 194/1000\n",
      "2560/2560 [==============================] - 34s 13ms/step - loss: 0.0181 - accuracy: 0.9982 - val_loss: 0.4641 - val_accuracy: 0.9642\n",
      "Epoch 195/1000\n",
      "2560/2560 [==============================] - 36s 14ms/step - loss: 0.0150 - accuracy: 0.9990 - val_loss: 0.4911 - val_accuracy: 0.9633\n",
      "Epoch 196/1000\n",
      "2560/2560 [==============================] - 34s 13ms/step - loss: 0.0167 - accuracy: 0.9986 - val_loss: 0.4731 - val_accuracy: 0.9617\n",
      "Epoch 197/1000\n",
      "2560/2560 [==============================] - 34s 13ms/step - loss: 0.0163 - accuracy: 0.9988 - val_loss: 0.4770 - val_accuracy: 0.9620\n",
      "Epoch 198/1000\n",
      "2560/2560 [==============================] - 34s 13ms/step - loss: 0.0133 - accuracy: 0.9991 - val_loss: 0.4945 - val_accuracy: 0.9625\n",
      "Epoch 199/1000\n",
      "2560/2560 [==============================] - 34s 13ms/step - loss: 0.0259 - accuracy: 0.9977 - val_loss: 0.4403 - val_accuracy: 0.9616\n"
     ]
    }
   ],
   "source": [
    "# Fit the model\n",
    "history = model.fit(x_train, y_train, epochs=epochs, validation_data=(x_test, y_test), batch_size=batch_size, callbacks=[earlyStopping, checkpoint])"
   ]
  },
  {
   "cell_type": "code",
   "execution_count": 17,
   "metadata": {},
   "outputs": [
    {
     "data": {
      "image/png": "[encoded data removed]",
      "text/plain": [
       "<Figure size 432x288 with 1 Axes>"
      ]
     },
     "metadata": {
      "needs_background": "light"
     },
     "output_type": "display_data"
    }
   ],
   "source": [
    "# Loss Gain\n",
    "plt.plot(history.history['val_loss'])\n",
    "plt.show()"
   ]
  },
  {
   "cell_type": "code",
   "execution_count": 18,
   "metadata": {},
   "outputs": [
    {
     "data": {
      "image/png": "[encoded data removed]",
      "text/plain": [
       "<Figure size 432x288 with 1 Axes>"
      ]
     },
     "metadata": {
      "needs_background": "light"
     },
     "output_type": "display_data"
    }
   ],
   "source": [
    "# Loss Gain\n",
    "plt.plot(history.history['val_accuracy'])\n",
    "plt.show()"
   ]
  },
  {
   "cell_type": "code",
   "execution_count": 19,
   "metadata": {},
   "outputs": [],
   "source": [
    "# Restore the model with best accuracy\n",
    "best_model = load_model(save_file)"
   ]
  },
  {
   "cell_type": "code",
   "execution_count": 20,
   "metadata": {},
   "outputs": [
    {
     "data": {
      "image/png": "[encoded data removed]",
      "text/plain": [
       "<Figure size 432x288 with 1 Axes>"
      ]
     },
     "metadata": {
      "needs_background": "light"
     },
     "output_type": "display_data"
    }
   ],
   "source": [
    "# Small sample of results\n",
    "score = numpy.asarray(model.predict(x_validation))\n",
    "results = numpy.where(score >= 0.5, 1, 0)\n",
    "plt.scatter( range(len(results[0:50])), results[0:50], c='r' )\n",
    "plt.scatter( range(len(results[0:50])), y_test[0:50], c='g' )\n",
    "plt.show()"
   ]
  },
  {
   "cell_type": "code",
   "execution_count": 21,
   "metadata": {},
   "outputs": [
    {
     "name": "stdout",
     "output_type": "stream",
     "text": [
      "640/640 [==============================] - 2s 4ms/step - loss: 0.4235 - accuracy: 0.9659\n",
      "\n",
      "accuracy: 96.59%\n"
     ]
    }
   ],
   "source": [
    "# validate the model\n",
    "scores = best_model.evaluate(x_test, y_test, batch_size=10)\n",
    "print(\"\\n%s: %.2f%%\" % (model.metrics_names[1], scores[1]*100))"
   ]
  }
 ],
 "metadata": {
  "kernelspec": {
   "display_name": "Python 3",
   "language": "python",
   "name": "python3"
  },
  "language_info": {
   "codemirror_mode": {
    "name": "ipython",
    "version": 3
   },
   "file_extension": ".py",
   "mimetype": "text/x-python",
   "name": "python",
   "nbconvert_exporter": "python",
   "pygments_lexer": "ipython3",
   "version": "3.6.9"
  }
 },
 "nbformat": 4,
 "nbformat_minor": 2
}
